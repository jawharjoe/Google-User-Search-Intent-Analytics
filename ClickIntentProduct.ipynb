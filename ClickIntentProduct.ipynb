{
 "cells": [
  {
   "cell_type": "code",
   "execution_count": 186,
   "id": "06a998fc-c58e-4a86-aa91-c1313a19f520",
   "metadata": {},
   "outputs": [],
   "source": [
    "import pandas as pd\n",
    "import pickle\n",
    "from sklearn.feature_extraction.text import TfidfVectorizer\n",
    "import Levenshtein as Lv\n",
    "import json\n",
    "import nltk\n",
    "import string\n",
    "from heapq import nlargest"
   ]
  },
  {
   "cell_type": "code",
   "execution_count": 187,
   "id": "5ed96648-2c01-42aa-9cf8-a195185505e1",
   "metadata": {},
   "outputs": [],
   "source": [
    "data = pd.read_csv('All_campaigns.csv',skiprows=2,low_memory=False)"
   ]
  },
  {
   "cell_type": "code",
   "execution_count": 188,
   "id": "30c6fe77-08bb-40de-9064-2016d5b33454",
   "metadata": {},
   "outputs": [
    {
     "data": {
      "text/html": [
       "<div>\n",
       "<style scoped>\n",
       "    .dataframe tbody tr th:only-of-type {\n",
       "        vertical-align: middle;\n",
       "    }\n",
       "\n",
       "    .dataframe tbody tr th {\n",
       "        vertical-align: top;\n",
       "    }\n",
       "\n",
       "    .dataframe thead th {\n",
       "        text-align: right;\n",
       "    }\n",
       "</style>\n",
       "<table border=\"1\" class=\"dataframe\">\n",
       "  <thead>\n",
       "    <tr style=\"text-align: right;\">\n",
       "      <th></th>\n",
       "      <th>Account name</th>\n",
       "      <th>Customer ID</th>\n",
       "      <th>Campaign</th>\n",
       "      <th>Ad group</th>\n",
       "      <th>Campaign ID</th>\n",
       "      <th>Ad group ID</th>\n",
       "      <th>Keyword ID</th>\n",
       "      <th>Search keyword</th>\n",
       "      <th>Currency code</th>\n",
       "      <th>Clicks</th>\n",
       "      <th>...</th>\n",
       "      <th>Avg. CPC</th>\n",
       "      <th>Converted currency code</th>\n",
       "      <th>Avg. CPC (Converted currency)</th>\n",
       "      <th>Cost</th>\n",
       "      <th>Cost (Converted currency)</th>\n",
       "      <th>Conversions</th>\n",
       "      <th>View-through conv.</th>\n",
       "      <th>Cost / conv.</th>\n",
       "      <th>Cost / conv. (Converted currency)</th>\n",
       "      <th>Conv. rate</th>\n",
       "    </tr>\n",
       "  </thead>\n",
       "  <tbody>\n",
       "    <tr>\n",
       "      <th>0</th>\n",
       "      <td>HealthCare.com U65</td>\n",
       "      <td>476-322-7661</td>\n",
       "      <td>U65_HC_SL_G_RO_state-terms-kwurl-experiment_AD...</td>\n",
       "      <td>WV.1.1.10.1.5.00.1.0i.2_NF_NA_Health-Insurance...</td>\n",
       "      <td>10760603187</td>\n",
       "      <td>109125946314</td>\n",
       "      <td>668909987272</td>\n",
       "      <td>west virginia state insurance exchange plans</td>\n",
       "      <td>USD</td>\n",
       "      <td>0</td>\n",
       "      <td>...</td>\n",
       "      <td>--</td>\n",
       "      <td>--</td>\n",
       "      <td>--</td>\n",
       "      <td>0.0</td>\n",
       "      <td>--</td>\n",
       "      <td>0.0</td>\n",
       "      <td>0</td>\n",
       "      <td>--</td>\n",
       "      <td>--</td>\n",
       "      <td>0</td>\n",
       "    </tr>\n",
       "    <tr>\n",
       "      <th>1</th>\n",
       "      <td>HealthCare.com U65</td>\n",
       "      <td>476-322-7661</td>\n",
       "      <td>U65_HC_SL_G_RO_state-terms-kwurl-experiment_AD...</td>\n",
       "      <td>KS.1.1.10.1.5.00.1.0P.2_NF_NA_Cheap-Health-Plan</td>\n",
       "      <td>10760603187</td>\n",
       "      <td>102867791421</td>\n",
       "      <td>544255696975</td>\n",
       "      <td>+kansas +cheap +plans +for +2018</td>\n",
       "      <td>USD</td>\n",
       "      <td>0</td>\n",
       "      <td>...</td>\n",
       "      <td>--</td>\n",
       "      <td>--</td>\n",
       "      <td>--</td>\n",
       "      <td>0.0</td>\n",
       "      <td>--</td>\n",
       "      <td>0.0</td>\n",
       "      <td>0</td>\n",
       "      <td>--</td>\n",
       "      <td>--</td>\n",
       "      <td>0</td>\n",
       "    </tr>\n",
       "    <tr>\n",
       "      <th>2</th>\n",
       "      <td>HealthCare.com U65</td>\n",
       "      <td>476-322-7661</td>\n",
       "      <td>U65_HC_SL_G_RO_state-terms-kwurl-experiment_AD...</td>\n",
       "      <td>NV.1.1.10.1.5.00.1.0e.2_NF_NA_Obamacare-Sign-Up</td>\n",
       "      <td>10760603187</td>\n",
       "      <td>105331381359</td>\n",
       "      <td>482888648805</td>\n",
       "      <td>+2018 +obamacare +sign +up +nevada</td>\n",
       "      <td>USD</td>\n",
       "      <td>0</td>\n",
       "      <td>...</td>\n",
       "      <td>--</td>\n",
       "      <td>--</td>\n",
       "      <td>--</td>\n",
       "      <td>0.0</td>\n",
       "      <td>--</td>\n",
       "      <td>0.0</td>\n",
       "      <td>0</td>\n",
       "      <td>--</td>\n",
       "      <td>--</td>\n",
       "      <td>0</td>\n",
       "    </tr>\n",
       "    <tr>\n",
       "      <th>3</th>\n",
       "      <td>HealthCare.com U65</td>\n",
       "      <td>476-322-7661</td>\n",
       "      <td>U65_HC_SL_G_RO_state-terms-kwurl-experiment_AD...</td>\n",
       "      <td>WY.1.1.10.1.5.00.1.2G.2_NF_NA_Cobra</td>\n",
       "      <td>10760603187</td>\n",
       "      <td>105331410439</td>\n",
       "      <td>828823157196</td>\n",
       "      <td>+wy +cobra +plans +2020</td>\n",
       "      <td>USD</td>\n",
       "      <td>0</td>\n",
       "      <td>...</td>\n",
       "      <td>--</td>\n",
       "      <td>--</td>\n",
       "      <td>--</td>\n",
       "      <td>0.0</td>\n",
       "      <td>--</td>\n",
       "      <td>0.0</td>\n",
       "      <td>0</td>\n",
       "      <td>--</td>\n",
       "      <td>--</td>\n",
       "      <td>0</td>\n",
       "    </tr>\n",
       "    <tr>\n",
       "      <th>4</th>\n",
       "      <td>HealthCare.com U65</td>\n",
       "      <td>476-322-7661</td>\n",
       "      <td>U65_HC_SL_G_RO_state-terms-kwurl-experiment_AD...</td>\n",
       "      <td>AK.1.1.10.1.5.00.1.0e.2_NF_NA_Obamacare</td>\n",
       "      <td>10760603187</td>\n",
       "      <td>105331377359</td>\n",
       "      <td>377984945895</td>\n",
       "      <td>2018 obamacare alaska plans</td>\n",
       "      <td>USD</td>\n",
       "      <td>0</td>\n",
       "      <td>...</td>\n",
       "      <td>--</td>\n",
       "      <td>--</td>\n",
       "      <td>--</td>\n",
       "      <td>0.0</td>\n",
       "      <td>--</td>\n",
       "      <td>0.0</td>\n",
       "      <td>0</td>\n",
       "      <td>--</td>\n",
       "      <td>--</td>\n",
       "      <td>0</td>\n",
       "    </tr>\n",
       "    <tr>\n",
       "      <th>...</th>\n",
       "      <td>...</td>\n",
       "      <td>...</td>\n",
       "      <td>...</td>\n",
       "      <td>...</td>\n",
       "      <td>...</td>\n",
       "      <td>...</td>\n",
       "      <td>...</td>\n",
       "      <td>...</td>\n",
       "      <td>...</td>\n",
       "      <td>...</td>\n",
       "      <td>...</td>\n",
       "      <td>...</td>\n",
       "      <td>...</td>\n",
       "      <td>...</td>\n",
       "      <td>...</td>\n",
       "      <td>...</td>\n",
       "      <td>...</td>\n",
       "      <td>...</td>\n",
       "      <td>...</td>\n",
       "      <td>...</td>\n",
       "      <td>...</td>\n",
       "    </tr>\n",
       "    <tr>\n",
       "      <th>1021229</th>\n",
       "      <td>HealthCare.com U65</td>\n",
       "      <td>476-322-7661</td>\n",
       "      <td>U65_HC_SL_G_RO_state-terms-kwurl-experiment_AD...</td>\n",
       "      <td>ND.1.1.10.1.5.00.1.0p.2_NF_NA_Trumpcare</td>\n",
       "      <td>10760603187</td>\n",
       "      <td>102867795741</td>\n",
       "      <td>519149961064</td>\n",
       "      <td>health insurance north dakota state trumpcare</td>\n",
       "      <td>USD</td>\n",
       "      <td>0</td>\n",
       "      <td>...</td>\n",
       "      <td>--</td>\n",
       "      <td>--</td>\n",
       "      <td>--</td>\n",
       "      <td>0.0</td>\n",
       "      <td>--</td>\n",
       "      <td>0.0</td>\n",
       "      <td>0</td>\n",
       "      <td>--</td>\n",
       "      <td>--</td>\n",
       "      <td>0</td>\n",
       "    </tr>\n",
       "    <tr>\n",
       "      <th>1021230</th>\n",
       "      <td>HealthCare.com U65</td>\n",
       "      <td>476-322-7661</td>\n",
       "      <td>U65_HC_SL_G_RO_state-terms-kwurl-experiment_AD...</td>\n",
       "      <td>MI.1.1.10.1.5.00.1.0e.2_NF_NA_Obamacare</td>\n",
       "      <td>10760603187</td>\n",
       "      <td>109125933114</td>\n",
       "      <td>829065459031</td>\n",
       "      <td>+2020 +obama +care +in +mi</td>\n",
       "      <td>USD</td>\n",
       "      <td>0</td>\n",
       "      <td>...</td>\n",
       "      <td>--</td>\n",
       "      <td>--</td>\n",
       "      <td>--</td>\n",
       "      <td>0.0</td>\n",
       "      <td>--</td>\n",
       "      <td>0.0</td>\n",
       "      <td>0</td>\n",
       "      <td>--</td>\n",
       "      <td>--</td>\n",
       "      <td>0</td>\n",
       "    </tr>\n",
       "    <tr>\n",
       "      <th>1021231</th>\n",
       "      <td>HealthCare.com U65</td>\n",
       "      <td>476-322-7661</td>\n",
       "      <td>U65_HC_SL_G_RO_state-terms-kwurl-experiment_AD...</td>\n",
       "      <td>MI.1.1.10.1.5.00.1.0e.2_NF_NA_Obamacare</td>\n",
       "      <td>10760603187</td>\n",
       "      <td>109125933114</td>\n",
       "      <td>475034504067</td>\n",
       "      <td>health insurance michigan state obamacare</td>\n",
       "      <td>USD</td>\n",
       "      <td>0</td>\n",
       "      <td>...</td>\n",
       "      <td>--</td>\n",
       "      <td>--</td>\n",
       "      <td>--</td>\n",
       "      <td>0.0</td>\n",
       "      <td>--</td>\n",
       "      <td>0.0</td>\n",
       "      <td>0</td>\n",
       "      <td>--</td>\n",
       "      <td>--</td>\n",
       "      <td>0</td>\n",
       "    </tr>\n",
       "    <tr>\n",
       "      <th>1021232</th>\n",
       "      <td>HealthCare.com U65</td>\n",
       "      <td>476-322-7661</td>\n",
       "      <td>U65_HC_SL_G_RO_state-terms-kwurl-experiment_AD...</td>\n",
       "      <td>WA.1.1.10.1.5.00.1.0P.2_NF_NA_Cheap-Health-Ins...</td>\n",
       "      <td>10760603187</td>\n",
       "      <td>105331374199</td>\n",
       "      <td>351928822230</td>\n",
       "      <td>cheap health insurance for wa</td>\n",
       "      <td>USD</td>\n",
       "      <td>0</td>\n",
       "      <td>...</td>\n",
       "      <td>--</td>\n",
       "      <td>--</td>\n",
       "      <td>--</td>\n",
       "      <td>0.0</td>\n",
       "      <td>--</td>\n",
       "      <td>0.0</td>\n",
       "      <td>0</td>\n",
       "      <td>--</td>\n",
       "      <td>--</td>\n",
       "      <td>0</td>\n",
       "    </tr>\n",
       "    <tr>\n",
       "      <th>1021233</th>\n",
       "      <td>HealthCare.com U65</td>\n",
       "      <td>476-322-7661</td>\n",
       "      <td>U65_HC_SL_G_RO_state-terms-kwurl-experiment_AD...</td>\n",
       "      <td>NC.1.1.10.1.5.00.1.0P.2_NF_NA_Cheap-Health-Plan</td>\n",
       "      <td>10760603187</td>\n",
       "      <td>102867792141</td>\n",
       "      <td>543081263881</td>\n",
       "      <td>+north +carolina +cheap +plan +eastern</td>\n",
       "      <td>USD</td>\n",
       "      <td>0</td>\n",
       "      <td>...</td>\n",
       "      <td>--</td>\n",
       "      <td>--</td>\n",
       "      <td>--</td>\n",
       "      <td>0.0</td>\n",
       "      <td>--</td>\n",
       "      <td>0.0</td>\n",
       "      <td>0</td>\n",
       "      <td>--</td>\n",
       "      <td>--</td>\n",
       "      <td>0</td>\n",
       "    </tr>\n",
       "  </tbody>\n",
       "</table>\n",
       "<p>1021234 rows × 22 columns</p>\n",
       "</div>"
      ],
      "text/plain": [
       "               Account name   Customer ID  \\\n",
       "0        HealthCare.com U65  476-322-7661   \n",
       "1        HealthCare.com U65  476-322-7661   \n",
       "2        HealthCare.com U65  476-322-7661   \n",
       "3        HealthCare.com U65  476-322-7661   \n",
       "4        HealthCare.com U65  476-322-7661   \n",
       "...                     ...           ...   \n",
       "1021229  HealthCare.com U65  476-322-7661   \n",
       "1021230  HealthCare.com U65  476-322-7661   \n",
       "1021231  HealthCare.com U65  476-322-7661   \n",
       "1021232  HealthCare.com U65  476-322-7661   \n",
       "1021233  HealthCare.com U65  476-322-7661   \n",
       "\n",
       "                                                  Campaign  \\\n",
       "0        U65_HC_SL_G_RO_state-terms-kwurl-experiment_AD...   \n",
       "1        U65_HC_SL_G_RO_state-terms-kwurl-experiment_AD...   \n",
       "2        U65_HC_SL_G_RO_state-terms-kwurl-experiment_AD...   \n",
       "3        U65_HC_SL_G_RO_state-terms-kwurl-experiment_AD...   \n",
       "4        U65_HC_SL_G_RO_state-terms-kwurl-experiment_AD...   \n",
       "...                                                    ...   \n",
       "1021229  U65_HC_SL_G_RO_state-terms-kwurl-experiment_AD...   \n",
       "1021230  U65_HC_SL_G_RO_state-terms-kwurl-experiment_AD...   \n",
       "1021231  U65_HC_SL_G_RO_state-terms-kwurl-experiment_AD...   \n",
       "1021232  U65_HC_SL_G_RO_state-terms-kwurl-experiment_AD...   \n",
       "1021233  U65_HC_SL_G_RO_state-terms-kwurl-experiment_AD...   \n",
       "\n",
       "                                                  Ad group  Campaign ID  \\\n",
       "0        WV.1.1.10.1.5.00.1.0i.2_NF_NA_Health-Insurance...  10760603187   \n",
       "1          KS.1.1.10.1.5.00.1.0P.2_NF_NA_Cheap-Health-Plan  10760603187   \n",
       "2          NV.1.1.10.1.5.00.1.0e.2_NF_NA_Obamacare-Sign-Up  10760603187   \n",
       "3                      WY.1.1.10.1.5.00.1.2G.2_NF_NA_Cobra  10760603187   \n",
       "4                  AK.1.1.10.1.5.00.1.0e.2_NF_NA_Obamacare  10760603187   \n",
       "...                                                    ...          ...   \n",
       "1021229            ND.1.1.10.1.5.00.1.0p.2_NF_NA_Trumpcare  10760603187   \n",
       "1021230            MI.1.1.10.1.5.00.1.0e.2_NF_NA_Obamacare  10760603187   \n",
       "1021231            MI.1.1.10.1.5.00.1.0e.2_NF_NA_Obamacare  10760603187   \n",
       "1021232  WA.1.1.10.1.5.00.1.0P.2_NF_NA_Cheap-Health-Ins...  10760603187   \n",
       "1021233    NC.1.1.10.1.5.00.1.0P.2_NF_NA_Cheap-Health-Plan  10760603187   \n",
       "\n",
       "          Ad group ID    Keyword ID  \\\n",
       "0        109125946314  668909987272   \n",
       "1        102867791421  544255696975   \n",
       "2        105331381359  482888648805   \n",
       "3        105331410439  828823157196   \n",
       "4        105331377359  377984945895   \n",
       "...               ...           ...   \n",
       "1021229  102867795741  519149961064   \n",
       "1021230  109125933114  829065459031   \n",
       "1021231  109125933114  475034504067   \n",
       "1021232  105331374199  351928822230   \n",
       "1021233  102867792141  543081263881   \n",
       "\n",
       "                                        Search keyword Currency code  Clicks  \\\n",
       "0         west virginia state insurance exchange plans           USD       0   \n",
       "1                     +kansas +cheap +plans +for +2018           USD       0   \n",
       "2                   +2018 +obamacare +sign +up +nevada           USD       0   \n",
       "3                              +wy +cobra +plans +2020           USD       0   \n",
       "4                          2018 obamacare alaska plans           USD       0   \n",
       "...                                                ...           ...     ...   \n",
       "1021229  health insurance north dakota state trumpcare           USD       0   \n",
       "1021230                     +2020 +obama +care +in +mi           USD       0   \n",
       "1021231      health insurance michigan state obamacare           USD       0   \n",
       "1021232                  cheap health insurance for wa           USD       0   \n",
       "1021233         +north +carolina +cheap +plan +eastern           USD       0   \n",
       "\n",
       "         ... Avg. CPC Converted currency code Avg. CPC (Converted currency)  \\\n",
       "0        ...       --                      --                            --   \n",
       "1        ...       --                      --                            --   \n",
       "2        ...       --                      --                            --   \n",
       "3        ...       --                      --                            --   \n",
       "4        ...       --                      --                            --   \n",
       "...      ...      ...                     ...                           ...   \n",
       "1021229  ...       --                      --                            --   \n",
       "1021230  ...       --                      --                            --   \n",
       "1021231  ...       --                      --                            --   \n",
       "1021232  ...       --                      --                            --   \n",
       "1021233  ...       --                      --                            --   \n",
       "\n",
       "        Cost Cost (Converted currency)  Conversions View-through conv.  \\\n",
       "0        0.0                        --          0.0                  0   \n",
       "1        0.0                        --          0.0                  0   \n",
       "2        0.0                        --          0.0                  0   \n",
       "3        0.0                        --          0.0                  0   \n",
       "4        0.0                        --          0.0                  0   \n",
       "...      ...                       ...          ...                ...   \n",
       "1021229  0.0                        --          0.0                  0   \n",
       "1021230  0.0                        --          0.0                  0   \n",
       "1021231  0.0                        --          0.0                  0   \n",
       "1021232  0.0                        --          0.0                  0   \n",
       "1021233  0.0                        --          0.0                  0   \n",
       "\n",
       "         Cost / conv.  Cost / conv. (Converted currency) Conv. rate  \n",
       "0                  --                                 --          0  \n",
       "1                  --                                 --          0  \n",
       "2                  --                                 --          0  \n",
       "3                  --                                 --          0  \n",
       "4                  --                                 --          0  \n",
       "...               ...                                ...        ...  \n",
       "1021229            --                                 --          0  \n",
       "1021230            --                                 --          0  \n",
       "1021231            --                                 --          0  \n",
       "1021232            --                                 --          0  \n",
       "1021233            --                                 --          0  \n",
       "\n",
       "[1021234 rows x 22 columns]"
      ]
     },
     "execution_count": 188,
     "metadata": {},
     "output_type": "execute_result"
    }
   ],
   "source": [
    "data"
   ]
  },
  {
   "cell_type": "code",
   "execution_count": 189,
   "id": "853e53c6-8a37-4e12-b447-abaed8e77368",
   "metadata": {},
   "outputs": [
    {
     "data": {
      "text/plain": [
       "HealthCare.com U65    892005\n",
       "HealthCare.com O65    129229\n",
       "Name: Account name, dtype: int64"
      ]
     },
     "execution_count": 189,
     "metadata": {},
     "output_type": "execute_result"
    }
   ],
   "source": [
    "data['Account name'].value_counts()"
   ]
  },
  {
   "cell_type": "code",
   "execution_count": 190,
   "id": "aaa2b958-0338-40e8-bfeb-fa8bd7179f89",
   "metadata": {},
   "outputs": [],
   "source": [
    "# data['Ad group'].value_counts()"
   ]
  },
  {
   "cell_type": "code",
   "execution_count": 191,
   "id": "2a2b0a9d-df38-483e-b210-7637c5e535d0",
   "metadata": {},
   "outputs": [
    {
     "data": {
      "text/plain": [
       "72429"
      ]
     },
     "execution_count": 191,
     "metadata": {},
     "output_type": "execute_result"
    }
   ],
   "source": [
    "data['Ad group ID'].nunique()"
   ]
  },
  {
   "cell_type": "markdown",
   "id": "5f547fa0-6310-4416-abfb-ac336a86538e",
   "metadata": {},
   "source": [
    "### T1"
   ]
  },
  {
   "cell_type": "code",
   "execution_count": 192,
   "id": "bfe0ea06-47b2-4b15-bfc8-3a596f220f00",
   "metadata": {},
   "outputs": [
    {
     "data": {
      "text/plain": [
       "53080"
      ]
     },
     "execution_count": 192,
     "metadata": {},
     "output_type": "execute_result"
    }
   ],
   "source": [
    "data.loc[data['Account name'] == 'HealthCare.com U65']['Ad group ID'].nunique()"
   ]
  },
  {
   "cell_type": "code",
   "execution_count": 193,
   "id": "1117c9a2-49ae-4fb8-bd35-7b513a089a6b",
   "metadata": {},
   "outputs": [
    {
     "data": {
      "text/plain": [
       "19349"
      ]
     },
     "execution_count": 193,
     "metadata": {},
     "output_type": "execute_result"
    }
   ],
   "source": [
    "data.loc[data['Account name'] == 'HealthCare.com O65']['Ad group ID'].nunique()"
   ]
  },
  {
   "cell_type": "code",
   "execution_count": 194,
   "id": "06ae4726-c72f-4fc9-aca9-94ce577b6863",
   "metadata": {},
   "outputs": [
    {
     "data": {
      "text/plain": [
       "29"
      ]
     },
     "execution_count": 194,
     "metadata": {},
     "output_type": "execute_result"
    }
   ],
   "source": [
    "data.loc[data['Account name'] == 'HealthCare.com O65']['Campaign ID'].nunique()"
   ]
  },
  {
   "cell_type": "code",
   "execution_count": 195,
   "id": "08ca0c1f-8184-40d9-9617-50db3928b57d",
   "metadata": {},
   "outputs": [
    {
     "data": {
      "text/plain": [
       "72429"
      ]
     },
     "execution_count": 195,
     "metadata": {},
     "output_type": "execute_result"
    }
   ],
   "source": [
    "data.loc[data['Account name'] == 'HealthCare.com U65']['Ad group ID'].nunique() + data.loc[data['Account name'] == 'HealthCare.com O65']['Ad group ID'].nunique()"
   ]
  },
  {
   "cell_type": "markdown",
   "id": "9511a562-ccb8-4e0d-a6c6-fc5c7a9509ce",
   "metadata": {},
   "source": [
    "### T2"
   ]
  },
  {
   "cell_type": "code",
   "execution_count": 196,
   "id": "9aaa8713-9a2c-4c05-bbfc-b53d247b4242",
   "metadata": {},
   "outputs": [
    {
     "data": {
      "text/plain": [
       "array([109125946314, 102867791421, 105331381359, ..., 102867810661,\n",
       "       102867812861, 102867808261])"
      ]
     },
     "execution_count": 196,
     "metadata": {},
     "output_type": "execute_result"
    }
   ],
   "source": [
    "data['Ad group ID'].unique()"
   ]
  },
  {
   "cell_type": "code",
   "execution_count": 197,
   "id": "16ace4bc-b23c-49d6-9e48-a394c9c17491",
   "metadata": {},
   "outputs": [
    {
     "data": {
      "text/plain": [
       "array([668909987272, 544255696975, 482888648805, ..., 829065459031,\n",
       "       475034504067, 543081263881])"
      ]
     },
     "execution_count": 197,
     "metadata": {},
     "output_type": "execute_result"
    }
   ],
   "source": [
    "data['Keyword ID'].unique()"
   ]
  },
  {
   "cell_type": "code",
   "execution_count": 198,
   "id": "8b6ada74-0b46-4087-956b-737235de7eaf",
   "metadata": {},
   "outputs": [],
   "source": [
    "# for i in data['Ad group ID'].unique():\n",
    "\n",
    "#     print(i, data.loc[data['Ad group ID'] == i, 'Search keyword'])"
   ]
  },
  {
   "cell_type": "code",
   "execution_count": 199,
   "id": "f887acad-aab5-436d-bcf4-28c01d5af43f",
   "metadata": {},
   "outputs": [],
   "source": [
    "# data['Ad group ID'].unique()"
   ]
  },
  {
   "cell_type": "code",
   "execution_count": 200,
   "id": "b9f5e973-ff73-483c-a7a5-346188ae0a62",
   "metadata": {},
   "outputs": [],
   "source": [
    "# print(data.loc[data['Ad group ID'] == 109125946314, 'Search keyword'])"
   ]
  },
  {
   "cell_type": "code",
   "execution_count": 201,
   "id": "792c1a65-ab8b-4cfe-b7b9-fc4286244759",
   "metadata": {},
   "outputs": [],
   "source": [
    "# data.loc[data['Ad group ID'] == 105331410439]['Search keyword'].to_list()"
   ]
  },
  {
   "cell_type": "code",
   "execution_count": 202,
   "id": "f4d8ed9f-82ae-4059-9d07-3fac44ad151c",
   "metadata": {},
   "outputs": [],
   "source": [
    "# sk_list = data.loc[data['Ad group ID'] == 109125946314]['Search keyword'].to_list()"
   ]
  },
  {
   "cell_type": "code",
   "execution_count": 203,
   "id": "b1519507-902e-4afa-866c-c87800f1d718",
   "metadata": {},
   "outputs": [],
   "source": [
    "# text = '.'.join(sk_list)\n",
    "# text"
   ]
  },
  {
   "cell_type": "code",
   "execution_count": 204,
   "id": "5384c308-d2dc-4723-87ff-93aa360b3505",
   "metadata": {},
   "outputs": [],
   "source": [
    "def summarizer(text):\n",
    "    # If the length of the text is greater than 20, take a 10th of the sentences\n",
    "    if text.count(\". \") > 20:\n",
    "      length = int(round(text.count(\". \")/10, 0))\n",
    "    # Otherwise return five sentences\n",
    "    else:\n",
    "      length = 1\n",
    "    # Remove punctuation\n",
    "    nopunc = [char for char in text if char not in string.punctuation]\n",
    "    nopunc = ''.join(nopunc)\n",
    "    # Remove stopwords\n",
    "    processed_text =[word for word in nopunc.split() if word.lower() not in nltk.corpus.stopwords.words('english')]\n",
    "    # Create a dictionary to store word frequency\n",
    "    word_freq = {}\n",
    "    # Enter each word and its number of occurrences\n",
    "    for word in processed_text:\n",
    "      if word not in word_freq:\n",
    "        word_freq[word] = 1\n",
    "      else:\n",
    "        word_freq[word] = word_freq[word] + 1\n",
    "    # Divide all frequencies by max frequency to give store of (0, 1]\n",
    "    max_freq = max(word_freq.values())\n",
    "    for word in word_freq.keys():\n",
    "      word_freq[word] = (word_freq[word]/max_freq)\n",
    "    # Create a list of the sentences in the text\n",
    "    sent_list = nltk.sent_tokenize(text)\n",
    "    # Create an empty dictionary to store sentence scores\n",
    "    sent_score = {}\n",
    "    for sent in sent_list:\n",
    "      for word in nltk.word_tokenize(sent.lower()):\n",
    "        if word in word_freq.keys():\n",
    "          if sent not in sent_score.keys():\n",
    "            sent_score[sent] = word_freq[word]\n",
    "          else:\n",
    "            sent_score[sent] = sent_score[sent] + word_freq[word]\n",
    "    summary_sents = nlargest(length, sent_score, key = sent_score.get)\n",
    "    summary = ' '.join(summary_sents)\n",
    "    return summary     "
   ]
  },
  {
   "cell_type": "code",
   "execution_count": 205,
   "id": "29fccd3b-315e-4ab2-bba3-bfd9188ece2f",
   "metadata": {},
   "outputs": [],
   "source": [
    "# sum_text = summarizer(text)\n",
    "# # sum_text"
   ]
  },
  {
   "cell_type": "code",
   "execution_count": 206,
   "id": "b0bb9def-75c5-46bb-a615-88f136dfa8fc",
   "metadata": {},
   "outputs": [],
   "source": [
    "def sum2(sum_text):\n",
    "    sum_text = sum_text.replace(\".\", \" \")\n",
    "    sum_text = sum_text.lower()\n",
    "    # print(sum_text)\n",
    "    words = sum_text.split()\n",
    "    words = [word.strip('.,!;()[]') for word in words]\n",
    "    words = [word.replace(\"'s\", '') for word in words]\n",
    "    unique = []\n",
    "    for word in words:\n",
    "        if word not in unique:\n",
    "            unique.append(word)\n",
    "    \n",
    "    return ' '.join(unique)      "
   ]
  },
  {
   "cell_type": "code",
   "execution_count": 207,
   "id": "d5d71ce3-a846-415b-b7c7-db52a4b5e40a",
   "metadata": {},
   "outputs": [],
   "source": [
    "# sum2(sum_text)"
   ]
  },
  {
   "cell_type": "code",
   "execution_count": 208,
   "id": "0f56b172-c10c-464f-8f15-215b5c0ff678",
   "metadata": {},
   "outputs": [],
   "source": [
    "# print(unique)"
   ]
  },
  {
   "cell_type": "code",
   "execution_count": 209,
   "id": "cbd0a4be-94d3-4f19-ad56-4aec4fa3008f",
   "metadata": {},
   "outputs": [],
   "source": [
    "# words"
   ]
  },
  {
   "cell_type": "markdown",
   "id": "485ddc1d-4f3d-41d8-8a8d-3f1f3b35bc58",
   "metadata": {},
   "source": [
    "### Final"
   ]
  },
  {
   "cell_type": "code",
   "execution_count": 212,
   "id": "0be5a941-37cc-494c-b1af-f03087c5a08a",
   "metadata": {},
   "outputs": [
    {
     "name": "stdin",
     "output_type": "stream",
     "text": [
      " Select:\n",
      "Ad Group ID (adi) | Keyword ID (ki)  adi\n"
     ]
    },
    {
     "name": "stdout",
     "output_type": "stream",
     "text": [
      "adi\n"
     ]
    }
   ],
   "source": [
    "#Get input\n",
    "#\n",
    "id_type = input(\" Select:\\nAd Group ID (adi) | Keyword ID (ki) \")\n",
    "print(id_type)"
   ]
  },
  {
   "cell_type": "code",
   "execution_count": 213,
   "id": "a2a8d6c2-730f-4f37-b652-da2b11ed021a",
   "metadata": {},
   "outputs": [
    {
     "name": "stdin",
     "output_type": "stream",
     "text": [
      "Enter Ad Group ID 109125946314\n"
     ]
    },
    {
     "name": "stdout",
     "output_type": "stream",
     "text": [
      "adi:  109125946314\n",
      "sum2: \n",
      " +wv +exchange +2020 healthcare exchange in west virginia wv state health insurance care plans 2020 exchanges of rates affordable individual +west +virginia +individual +health +insurance +exchanges premiums 2018 off +state benefit 2019 +2018 medical +in\n"
     ]
    }
   ],
   "source": [
    "if id_type=='ki':\n",
    "    ki = input(\"Enter Keyword ID\")\n",
    "    print('ki: ', ki)\n",
    "    adi = data.loc[data['Keyword ID'] == ki]['Ad group ID']\n",
    "    print('adi: ',adi[0])\n",
    "    sk_list = data.loc[data['Ad group ID'] == adi[0]]['Search keyword'].to_list()\n",
    "    # print('sk_list: \\n',sk_list)\n",
    "    text = '.'.join(sk_list)\n",
    "    # print('text: \\n',text)\n",
    "    sum_text = summarizer(text)\n",
    "    # print('sum_text: \\n',sum_text)\n",
    "    # sum2(sum_text)\n",
    "    print('sum2: \\n',sum2(sum_text))\n",
    "elif id_type=='adi':\n",
    "    adi = input(\"Enter Ad Group ID\")\n",
    "    print('adi: ',adi)\n",
    "    sk_list = data.loc[data['Ad group ID'] == int(adi)]['Search keyword'].to_list()\n",
    "    # print('sk_list: \\n',sk_list)\n",
    "    text = '.'.join(sk_list)\n",
    "    # print('text: \\n',text)\n",
    "    sum_text = summarizer(text)\n",
    "    # print('sum_text: \\n',sum_text)\n",
    "    # sum2(sum_text)\n",
    "    print('sum2: \\n',sum2(sum_text))\n",
    "else:\n",
    "    print(\"Wrong ID type\")"
   ]
  },
  {
   "cell_type": "code",
   "execution_count": 171,
   "id": "7d5bfa69-1a01-4b62-bf10-0c132acb18de",
   "metadata": {},
   "outputs": [
    {
     "name": "stdin",
     "output_type": "stream",
     "text": [
      " Show more  yyy\n"
     ]
    },
    {
     "name": "stdout",
     "output_type": "stream",
     "text": [
      "sk_list: \n",
      " ['hawaii health insurance exchange rates', ' +hawaii +health +insurance +exchange +rates', 'hawaii health insurance exchange rates']\n"
     ]
    }
   ],
   "source": [
    "more = input(\" Show more \")\n",
    "if more == 'y':\n",
    "    print('sum_text: \\n',sum_text)\n",
    "elif more == 'yy':\n",
    "    print('text: \\n',text)\n",
    "elif more == 'yyy':\n",
    "    print('sk_list: \\n',sk_list)\n",
    "else:\n",
    "    print(\"Done\")"
   ]
  },
  {
   "cell_type": "code",
   "execution_count": 165,
   "id": "6fb9ed42-d0d2-44c0-8041-2d3958aaaab4",
   "metadata": {},
   "outputs": [],
   "source": [
    "# data.loc[data['Ad group ID'] == 105331410439]['Search keyword'].to_list()"
   ]
  },
  {
   "cell_type": "code",
   "execution_count": 95,
   "id": "29155e03-fe52-4a9f-be65-b2336f5992e3",
   "metadata": {},
   "outputs": [
    {
     "data": {
      "text/plain": [
       "array([109125946314, 102867791421, 105331381359, ..., 102867810661,\n",
       "       102867812861, 102867808261])"
      ]
     },
     "execution_count": 95,
     "metadata": {},
     "output_type": "execute_result"
    }
   ],
   "source": [
    "data['Ad group ID'].unique()"
   ]
  },
  {
   "cell_type": "code",
   "execution_count": 96,
   "id": "008946f9-75df-4d3e-a415-ed419b23e0e5",
   "metadata": {},
   "outputs": [
    {
     "data": {
      "text/plain": [
       "array([668909987272, 544255696975, 482888648805, ..., 829065459031,\n",
       "       475034504067, 543081263881])"
      ]
     },
     "execution_count": 96,
     "metadata": {},
     "output_type": "execute_result"
    }
   ],
   "source": [
    "data['Keyword ID'].unique()"
   ]
  },
  {
   "cell_type": "code",
   "execution_count": 107,
   "id": "00bdef5b-72e3-4079-8fd9-dd7a719d6c08",
   "metadata": {},
   "outputs": [],
   "source": []
  },
  {
   "cell_type": "code",
   "execution_count": 166,
   "id": "3d4006a7-509d-478c-b6cc-4141ea98872d",
   "metadata": {},
   "outputs": [],
   "source": [
    "# print(data.loc[data['Ad group ID'] == 109125946314, 'Search keyword'])"
   ]
  },
  {
   "cell_type": "code",
   "execution_count": null,
   "id": "b7275ffe-a0e9-4ced-9a38-566dc06e8da7",
   "metadata": {},
   "outputs": [],
   "source": []
  }
 ],
 "metadata": {
  "kernelspec": {
   "display_name": "Python 3 (ipykernel)",
   "language": "python",
   "name": "python3"
  },
  "language_info": {
   "codemirror_mode": {
    "name": "ipython",
    "version": 3
   },
   "file_extension": ".py",
   "mimetype": "text/x-python",
   "name": "python",
   "nbconvert_exporter": "python",
   "pygments_lexer": "ipython3",
   "version": "3.11.3"
  }
 },
 "nbformat": 4,
 "nbformat_minor": 5
}
